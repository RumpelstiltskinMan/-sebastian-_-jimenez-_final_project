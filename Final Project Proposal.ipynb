{
 "cells": [
  {
   "cell_type": "markdown",
   "metadata": {},
   "source": [
    "My company Ballotbox helps big distribution firms analyze their offline marketing and sales. This includes big consumer companies like Molson Coors distributors who use our software to allow their menchandisers to collect data from retail locations with intelligent mobile devices (ipohnes, ipads, etc). This data includes: pricing, availability of the product (how much of the product is there for sale at the location), the visibility of the product, if there are any promotions for the product, and the availability of marketing or branding material for the product. \n",
    "\n",
    "These distributors need to analyze this data collected by their employees in order to be able to be able to get a sense of the demand for their different brands, and be able to predict the demand for their different brands at different locations at times of the year. They need to have a certain degree of accuracy in predicting demand for their different brands, because they have to buy the product in advance before distributing to the different points of sale. They need to put the order, get the product shipped from over seas, then distribute it to the warehouses, and then finally get it to the different retailers at the point of sale. \n",
    "\n",
    "If they are wrong about their predictions for the demand of their products, then they will lose money. If they overestimate demand, and buy more product than they needed, then they will have to pay for extra warehouse space that they didn't really need. If they underestimate demand, and buy less product than people wanted to buy, then they will lose sales. \n",
    "\n",
    "My goal with this final project is to use machine learning to be able to predict the volume of sales for just one of the brands for one of the distributors from Molson Coors. I will be looking at features such as: pricing, location, time of the year, promotional material at the location, marketing material at the location, and an idiosyncratic variable for the brand itself (coors light for instance). The distributor we're going to be looking at has an accuracy of 30% in their predictions. My goal is to raise the accuracy of their sales predictions to at least 70%.\n",
    "\n",
    "Predicting their demand more accurately will allow distributors to understand how much of a product they should order from their suppliers at different times of the year, so that they can save costs and not miss out on sales. \n",
    "\n",
    "Since there are many products that each distributor sells, and there are many distributors for each one of our clients, I will be limiting my analysis to just one product from one distributor, in order to keep things practical and controlable. "
   ]
  }
 ],
 "metadata": {
  "kernelspec": {
   "display_name": "Python 3",
   "language": "python",
   "name": "python3"
  },
  "language_info": {
   "codemirror_mode": {
    "name": "ipython",
    "version": 3
   },
   "file_extension": ".py",
   "mimetype": "text/x-python",
   "name": "python",
   "nbconvert_exporter": "python",
   "pygments_lexer": "ipython3",
   "version": "3.6.7"
  }
 },
 "nbformat": 4,
 "nbformat_minor": 2
}
